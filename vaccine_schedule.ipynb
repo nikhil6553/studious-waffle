{
  "nbformat": 4,
  "nbformat_minor": 0,
  "metadata": {
    "colab": {
      "provenance": [],
      "authorship_tag": "ABX9TyNji3ZTD+4ZyIE09/O4YGiW",
      "include_colab_link": true
    },
    "kernelspec": {
      "name": "python3",
      "display_name": "Python 3"
    },
    "language_info": {
      "name": "python"
    }
  },
  "cells": [
    {
      "cell_type": "markdown",
      "metadata": {
        "id": "view-in-github",
        "colab_type": "text"
      },
      "source": [
        "<a href=\"https://colab.research.google.com/github/nikhil6553/studious-waffle/blob/main/vaccine_schedule.ipynb\" target=\"_parent\"><img src=\"https://colab.research.google.com/assets/colab-badge.svg\" alt=\"Open In Colab\"/></a>"
      ]
    },
    {
      "cell_type": "code",
      "execution_count": null,
      "metadata": {
        "id": "JBKzdkgYFVGT"
      },
      "outputs": [],
      "source": [
        "import pandas as pd\n",
        "import numpy as np\n",
        "\n"
      ]
    },
    {
      "cell_type": "code",
      "source": [
        "df=pd.read_csv('/content/vaccine-schedule-data.csv', encoding='latin-1')"
      ],
      "metadata": {
        "id": "Z7HwZTCSFbkC"
      },
      "execution_count": null,
      "outputs": []
    },
    {
      "cell_type": "code",
      "source": [
        "print(\"Before Cleaning:\")\n",
        "print(df.head())\n",
        "print(df.info())"
      ],
      "metadata": {
        "colab": {
          "base_uri": "https://localhost:8080/"
        },
        "id": "7PQ4M_2BFobL",
        "outputId": "525394f1-a21e-4ee3-c515-c84374eab12b"
      },
      "execution_count": null,
      "outputs": [
        {
          "output_type": "stream",
          "name": "stdout",
          "text": [
            "Before Cleaning:\n",
            "  ISO_3_CODE COUNTRYNAME WHO_REGION    YEAR VACCINECODE  \\\n",
            "0        ABW       Aruba       AMRO  2023.0  DTAPHIBIPV   \n",
            "1        ABW       Aruba       AMRO  2023.0  DTAPHIBIPV   \n",
            "2        ABW       Aruba       AMRO  2023.0  DTAPHIBIPV   \n",
            "3        ABW       Aruba       AMRO  2023.0  DTAPHIBIPV   \n",
            "4        ABW       Aruba       AMRO  2023.0     DTAPIPV   \n",
            "\n",
            "                VACCINE_DESCRIPTION  SCHEDULEROUNDS  TARGETPOP  \\\n",
            "0  DTaP-Hib-IPV (acellular) vaccine             1.0        NaN   \n",
            "1  DTaP-Hib-IPV (acellular) vaccine             2.0        NaN   \n",
            "2  DTaP-Hib-IPV (acellular) vaccine             3.0        NaN   \n",
            "3  DTaP-Hib-IPV (acellular) vaccine             4.0    B_2YL_W   \n",
            "4      DTaP-IPV (acellular) vaccine             5.0  B_CHILD_W   \n",
            "\n",
            "  TARGETPOP_DESCRIPTION   GEOAREA AGEADMINISTERED SOURCECOMMENT  \n",
            "0       General/routine  NATIONAL              M2           NaN  \n",
            "1       General/routine  NATIONAL              M4           NaN  \n",
            "2       General/routine  NATIONAL              M6           NaN  \n",
            "3       General/routine  NATIONAL             M15           NaN  \n",
            "4       General/routine  NATIONAL              Y4           NaN  \n",
            "<class 'pandas.core.frame.DataFrame'>\n",
            "RangeIndex: 8053 entries, 0 to 8052\n",
            "Data columns (total 12 columns):\n",
            " #   Column                 Non-Null Count  Dtype  \n",
            "---  ------                 --------------  -----  \n",
            " 0   ISO_3_CODE             8053 non-null   object \n",
            " 1   COUNTRYNAME            8052 non-null   object \n",
            " 2   WHO_REGION             8052 non-null   object \n",
            " 3   YEAR                   8052 non-null   float64\n",
            " 4   VACCINECODE            8052 non-null   object \n",
            " 5   VACCINE_DESCRIPTION    8052 non-null   object \n",
            " 6   SCHEDULEROUNDS         8052 non-null   float64\n",
            " 7   TARGETPOP              3795 non-null   object \n",
            " 8   TARGETPOP_DESCRIPTION  8052 non-null   object \n",
            " 9   GEOAREA                8022 non-null   object \n",
            " 10  AGEADMINISTERED        7007 non-null   object \n",
            " 11  SOURCECOMMENT          5139 non-null   object \n",
            "dtypes: float64(2), object(10)\n",
            "memory usage: 755.1+ KB\n",
            "None\n"
          ]
        }
      ]
    },
    {
      "cell_type": "code",
      "source": [
        "# Cleaning\n",
        "# 1. Standardize column names\n",
        "df.columns = df.columns.str.strip().str.replace(\" \", \"_\").str.lower()\n"
      ],
      "metadata": {
        "id": "EMZlfkuKGYeh"
      },
      "execution_count": null,
      "outputs": []
    },
    {
      "cell_type": "code",
      "source": [
        "# 2. Handle missing values\n",
        "df = df.fillna(method=\"ffill\").fillna(0)\n"
      ],
      "metadata": {
        "colab": {
          "base_uri": "https://localhost:8080/"
        },
        "id": "79eRM63hGaYP",
        "outputId": "842836e7-597b-4b28-d359-b9bb3912e814"
      },
      "execution_count": null,
      "outputs": [
        {
          "output_type": "stream",
          "name": "stderr",
          "text": [
            "/tmp/ipython-input-1099532589.py:2: FutureWarning: DataFrame.fillna with 'method' is deprecated and will raise in a future version. Use obj.ffill() or obj.bfill() instead.\n",
            "  df = df.fillna(method=\"ffill\").fillna(0)\n"
          ]
        }
      ]
    },
    {
      "cell_type": "code",
      "source": [
        "# 3. Normalize percentages (if values are >1 and ≤100, convert to decimal)\n",
        "for col in df.select_dtypes(include=[np.number]).columns:\n",
        "    if df[col].max() > 1 and df[col].max() <= 100:\n",
        "        df[col] = df[col] / 100.0\n"
      ],
      "metadata": {
        "id": "s8q4yoBpGb3w"
      },
      "execution_count": null,
      "outputs": []
    },
    {
      "cell_type": "code",
      "source": [
        "# 4. Standardize date columns\n",
        "for col in df.columns:\n",
        "    if \"date\" in col.lower() or \"year\" in col.lower():\n",
        "        df[col] = pd.to_datetime(df[col], errors=\"coerce\")"
      ],
      "metadata": {
        "id": "paU7DlNKGdge"
      },
      "execution_count": null,
      "outputs": []
    },
    {
      "cell_type": "code",
      "source": [
        "print(\"\\nAfter Cleaning:\")\n",
        "print(df.head())"
      ],
      "metadata": {
        "colab": {
          "base_uri": "https://localhost:8080/"
        },
        "id": "AQpTlX-OGfgc",
        "outputId": "1c65ecb9-432a-4b10-eb95-b4c17e6c0db2"
      },
      "execution_count": null,
      "outputs": [
        {
          "output_type": "stream",
          "name": "stdout",
          "text": [
            "\n",
            "After Cleaning:\n",
            "  iso_3_code countryname who_region                          year vaccinecode  \\\n",
            "0        ABW       Aruba       AMRO 1970-01-01 00:00:00.000002023  DTAPHIBIPV   \n",
            "1        ABW       Aruba       AMRO 1970-01-01 00:00:00.000002023  DTAPHIBIPV   \n",
            "2        ABW       Aruba       AMRO 1970-01-01 00:00:00.000002023  DTAPHIBIPV   \n",
            "3        ABW       Aruba       AMRO 1970-01-01 00:00:00.000002023  DTAPHIBIPV   \n",
            "4        ABW       Aruba       AMRO 1970-01-01 00:00:00.000002023     DTAPIPV   \n",
            "\n",
            "                vaccine_description  schedulerounds  targetpop  \\\n",
            "0  DTaP-Hib-IPV (acellular) vaccine            0.01          0   \n",
            "1  DTaP-Hib-IPV (acellular) vaccine            0.02          0   \n",
            "2  DTaP-Hib-IPV (acellular) vaccine            0.03          0   \n",
            "3  DTaP-Hib-IPV (acellular) vaccine            0.04    B_2YL_W   \n",
            "4      DTaP-IPV (acellular) vaccine            0.05  B_CHILD_W   \n",
            "\n",
            "  targetpop_description   geoarea ageadministered sourcecomment  \n",
            "0       General/routine  NATIONAL              M2             0  \n",
            "1       General/routine  NATIONAL              M4             0  \n",
            "2       General/routine  NATIONAL              M6             0  \n",
            "3       General/routine  NATIONAL             M15             0  \n",
            "4       General/routine  NATIONAL              Y4             0  \n"
          ]
        }
      ]
    },
    {
      "cell_type": "code",
      "source": [
        "df.to_csv(\"cleaned_vaccine_data.csv\", index=False)\n",
        "print(\"\\n✅ Cleaned data saved as cleaned_vaccine_data.csv\")\n"
      ],
      "metadata": {
        "colab": {
          "base_uri": "https://localhost:8080/"
        },
        "id": "fEDY5q9ZGg9m",
        "outputId": "cce30d34-7fba-42f5-8a63-3e4b93ddc406"
      },
      "execution_count": null,
      "outputs": [
        {
          "output_type": "stream",
          "name": "stdout",
          "text": [
            "\n",
            "✅ Cleaned data saved as cleaned_vaccine_data.csv\n"
          ]
        }
      ]
    },
    {
      "cell_type": "code",
      "source": [],
      "metadata": {
        "id": "WRjiFdXXGlaY"
      },
      "execution_count": null,
      "outputs": []
    },
    {
      "cell_type": "markdown",
      "source": [
        "Generate SQL Schema & Insert Statements\n"
      ],
      "metadata": {
        "id": "9WZIXYMoGniY"
      }
    },
    {
      "cell_type": "code",
      "source": [
        "# Infer SQL schema\n",
        "def infer_sql_type(dtype):\n",
        "    if np.issubdtype(dtype, np.integer):\n",
        "        return \"INT\"\n",
        "    elif np.issubdtype(dtype, np.floating):\n",
        "        return \"FLOAT\"\n",
        "    elif np.issubdtype(dtype, np.datetime64):\n",
        "        return \"DATE\"\n",
        "    else:\n",
        "        return \"VARCHAR(255)\"\n",
        "\n",
        "table_name = \"vaccination_data\"\n",
        "columns = []\n"
      ],
      "metadata": {
        "id": "gmjuASA4GoaP"
      },
      "execution_count": null,
      "outputs": []
    },
    {
      "cell_type": "code",
      "source": [
        "for col, dtype in df.dtypes.items():\n",
        "    sql_type = infer_sql_type(dtype)\n",
        "    columns.append(f\"{col} {sql_type}\")\n"
      ],
      "metadata": {
        "id": "oMFkpXQtGqz2"
      },
      "execution_count": null,
      "outputs": []
    },
    {
      "cell_type": "code",
      "source": [
        "schema = f\"CREATE TABLE {table_name} (\\n    id INT PRIMARY KEY AUTO_INCREMENT,\\n    \" + \",\\n    \".join(columns) + \"\\n);\"\n",
        "\n",
        "print(\"\\n--- SQL Schema ---\")\n",
        "print(schema)"
      ],
      "metadata": {
        "colab": {
          "base_uri": "https://localhost:8080/"
        },
        "id": "8P745luJGst3",
        "outputId": "9f48ae54-4dea-4da5-e848-24b03dd6341d"
      },
      "execution_count": null,
      "outputs": [
        {
          "output_type": "stream",
          "name": "stdout",
          "text": [
            "\n",
            "--- SQL Schema ---\n",
            "CREATE TABLE vaccination_data (\n",
            "    id INT PRIMARY KEY AUTO_INCREMENT,\n",
            "    iso_3_code VARCHAR(255),\n",
            "    countryname VARCHAR(255),\n",
            "    who_region VARCHAR(255),\n",
            "    year DATE,\n",
            "    vaccinecode VARCHAR(255),\n",
            "    vaccine_description VARCHAR(255),\n",
            "    schedulerounds FLOAT,\n",
            "    targetpop VARCHAR(255),\n",
            "    targetpop_description VARCHAR(255),\n",
            "    geoarea VARCHAR(255),\n",
            "    ageadministered VARCHAR(255),\n",
            "    sourcecomment VARCHAR(255)\n",
            ");\n"
          ]
        }
      ]
    },
    {
      "cell_type": "code",
      "source": [
        "# Generate INSERT statements\n",
        "insert_statements = []\n",
        "for _, row in df.iterrows():\n",
        "    values = []\n",
        "    for val in row:\n",
        "        if pd.isna(val):\n",
        "            values.append(\"NULL\")\n",
        "        elif isinstance(val, (np.int64, int, float, np.float64)):\n",
        "            values.append(str(val))\n",
        "        elif isinstance(val, pd.Timestamp):\n",
        "            values.append(f\"'{val.date()}'\")\n",
        "        else:\n",
        "            values.append(f\"'{str(val)}'\")\n",
        "    insert_statements.append(f\"INSERT INTO {table_name} ({', '.join(df.columns)}) VALUES ({', '.join(values)});\")\n",
        "\n"
      ],
      "metadata": {
        "id": "r7geVjuVGuWG"
      },
      "execution_count": null,
      "outputs": []
    },
    {
      "cell_type": "code",
      "source": [
        "# Save SQL file\n",
        "with open(\"vaccination_data.sql\", \"w\", encoding=\"utf-8\") as f:\n",
        "    f.write(schema + \"\\n\\n\")\n",
        "    for stmt in insert_statements:\n",
        "        f.write(stmt + \"\\n\")\n"
      ],
      "metadata": {
        "id": "lDZJHCPkGycK"
      },
      "execution_count": null,
      "outputs": []
    },
    {
      "cell_type": "code",
      "source": [
        "print(\"\\n✅ SQL script saved as vaccination_data.sql\")\n"
      ],
      "metadata": {
        "colab": {
          "base_uri": "https://localhost:8080/"
        },
        "id": "ARadkEPWG0v4",
        "outputId": "973e2c62-3caf-49d5-a431-875ca62a4dda"
      },
      "execution_count": null,
      "outputs": [
        {
          "output_type": "stream",
          "name": "stdout",
          "text": [
            "\n",
            "✅ SQL script saved as vaccination_data.sql\n"
          ]
        }
      ]
    },
    {
      "cell_type": "markdown",
      "source": [
        "Exploratory Data Analysis (EDA):"
      ],
      "metadata": {
        "id": "H23RyLhwHkUy"
      }
    },
    {
      "cell_type": "code",
      "source": [
        "# 1. BASIC INSPECTION\n",
        "# =====================\n",
        "print(\"\\n--- Dataset Info ---\")\n",
        "print(df.info())\n",
        "print(\"\\n--- Missing Values ---\")\n",
        "print(df.isnull().sum())\n",
        "print(\"\\n--- Summary Statistics ---\")\n",
        "print(df.describe(include=\"all\").transpose())\n"
      ],
      "metadata": {
        "colab": {
          "base_uri": "https://localhost:8080/"
        },
        "id": "hR3DbNHPHSaQ",
        "outputId": "5140fef5-1865-4d28-dd08-2fd415e02d75"
      },
      "execution_count": null,
      "outputs": [
        {
          "output_type": "stream",
          "name": "stdout",
          "text": [
            "\n",
            "--- Dataset Info ---\n",
            "<class 'pandas.core.frame.DataFrame'>\n",
            "RangeIndex: 8053 entries, 0 to 8052\n",
            "Data columns (total 12 columns):\n",
            " #   Column                 Non-Null Count  Dtype         \n",
            "---  ------                 --------------  -----         \n",
            " 0   iso_3_code             8053 non-null   object        \n",
            " 1   countryname            8053 non-null   object        \n",
            " 2   who_region             8053 non-null   object        \n",
            " 3   year                   8053 non-null   datetime64[ns]\n",
            " 4   vaccinecode            8053 non-null   object        \n",
            " 5   vaccine_description    8053 non-null   object        \n",
            " 6   schedulerounds         8053 non-null   float64       \n",
            " 7   targetpop              8053 non-null   object        \n",
            " 8   targetpop_description  8053 non-null   object        \n",
            " 9   geoarea                8053 non-null   object        \n",
            " 10  ageadministered        8053 non-null   object        \n",
            " 11  sourcecomment          8053 non-null   object        \n",
            "dtypes: datetime64[ns](1), float64(1), object(10)\n",
            "memory usage: 755.1+ KB\n",
            "None\n",
            "\n",
            "--- Missing Values ---\n",
            "iso_3_code               0\n",
            "countryname              0\n",
            "who_region               0\n",
            "year                     0\n",
            "vaccinecode              0\n",
            "vaccine_description      0\n",
            "schedulerounds           0\n",
            "targetpop                0\n",
            "targetpop_description    0\n",
            "geoarea                  0\n",
            "ageadministered          0\n",
            "sourcecomment            0\n",
            "dtype: int64\n",
            "\n",
            "--- Summary Statistics ---\n",
            "                        count unique  \\\n",
            "iso_3_code               8053    214   \n",
            "countryname              8053    213   \n",
            "who_region               8053      6   \n",
            "year                     8053    NaN   \n",
            "vaccinecode              8053     86   \n",
            "vaccine_description      8053     86   \n",
            "schedulerounds         8053.0    NaN   \n",
            "targetpop                8053     16   \n",
            "targetpop_description    8053     10   \n",
            "geoarea                  8053      2   \n",
            "ageadministered          8053    425   \n",
            "sourcecomment            8053   1433   \n",
            "\n",
            "                                                                     top  \\\n",
            "iso_3_code                                                           RUS   \n",
            "countryname                                           Russian Federation   \n",
            "who_region                                                          EURO   \n",
            "year                                                                 NaN   \n",
            "vaccinecode                                                         TD_S   \n",
            "vaccine_description    Td (Tetanus toxoid and diphtheria for older ch...   \n",
            "schedulerounds                                                       NaN   \n",
            "targetpop                                                     RISKGROUPS   \n",
            "targetpop_description                                    General/routine   \n",
            "geoarea                                                         NATIONAL   \n",
            "ageadministered                                                       M2   \n",
            "sourcecomment                           Children with chronic conditions   \n",
            "\n",
            "                       freq                           mean  \\\n",
            "iso_3_code              126                            NaN   \n",
            "countryname             126                            NaN   \n",
            "who_region             2156                            NaN   \n",
            "year                    NaN  1970-01-01 00:00:00.000002022   \n",
            "vaccinecode             967                            NaN   \n",
            "vaccine_description     967                            NaN   \n",
            "schedulerounds          NaN                       0.020539   \n",
            "targetpop              2850                            NaN   \n",
            "targetpop_description  4696                            NaN   \n",
            "geoarea                7819                            NaN   \n",
            "ageadministered         447                            NaN   \n",
            "sourcecomment           489                            NaN   \n",
            "\n",
            "                                                 min  \\\n",
            "iso_3_code                                       NaN   \n",
            "countryname                                      NaN   \n",
            "who_region                                       NaN   \n",
            "year                   1970-01-01 00:00:00.000002019   \n",
            "vaccinecode                                      NaN   \n",
            "vaccine_description                              NaN   \n",
            "schedulerounds                                  0.01   \n",
            "targetpop                                        NaN   \n",
            "targetpop_description                            NaN   \n",
            "geoarea                                          NaN   \n",
            "ageadministered                                  NaN   \n",
            "sourcecomment                                    NaN   \n",
            "\n",
            "                                                 25%  \\\n",
            "iso_3_code                                       NaN   \n",
            "countryname                                      NaN   \n",
            "who_region                                       NaN   \n",
            "year                   1970-01-01 00:00:00.000002023   \n",
            "vaccinecode                                      NaN   \n",
            "vaccine_description                              NaN   \n",
            "schedulerounds                                  0.01   \n",
            "targetpop                                        NaN   \n",
            "targetpop_description                            NaN   \n",
            "geoarea                                          NaN   \n",
            "ageadministered                                  NaN   \n",
            "sourcecomment                                    NaN   \n",
            "\n",
            "                                                 50%  \\\n",
            "iso_3_code                                       NaN   \n",
            "countryname                                      NaN   \n",
            "who_region                                       NaN   \n",
            "year                   1970-01-01 00:00:00.000002023   \n",
            "vaccinecode                                      NaN   \n",
            "vaccine_description                              NaN   \n",
            "schedulerounds                                  0.02   \n",
            "targetpop                                        NaN   \n",
            "targetpop_description                            NaN   \n",
            "geoarea                                          NaN   \n",
            "ageadministered                                  NaN   \n",
            "sourcecomment                                    NaN   \n",
            "\n",
            "                                                 75%  \\\n",
            "iso_3_code                                       NaN   \n",
            "countryname                                      NaN   \n",
            "who_region                                       NaN   \n",
            "year                   1970-01-01 00:00:00.000002023   \n",
            "vaccinecode                                      NaN   \n",
            "vaccine_description                              NaN   \n",
            "schedulerounds                                  0.03   \n",
            "targetpop                                        NaN   \n",
            "targetpop_description                            NaN   \n",
            "geoarea                                          NaN   \n",
            "ageadministered                                  NaN   \n",
            "sourcecomment                                    NaN   \n",
            "\n",
            "                                                 max       std  \n",
            "iso_3_code                                       NaN       NaN  \n",
            "countryname                                      NaN       NaN  \n",
            "who_region                                       NaN       NaN  \n",
            "year                   1970-01-01 00:00:00.000002023       NaN  \n",
            "vaccinecode                                      NaN       NaN  \n",
            "vaccine_description                              NaN       NaN  \n",
            "schedulerounds                                  0.07  0.013172  \n",
            "targetpop                                        NaN       NaN  \n",
            "targetpop_description                            NaN       NaN  \n",
            "geoarea                                          NaN       NaN  \n",
            "ageadministered                                  NaN       NaN  \n",
            "sourcecomment                                    NaN       NaN  \n"
          ]
        }
      ]
    },
    {
      "cell_type": "code",
      "source": [
        "# 2. DATA DISTRIBUTION\n",
        "# =====================\n",
        "import matplotlib.pyplot as plt\n",
        "import seaborn as sns\n",
        "\n",
        "# Numerical distributions\n",
        "df.hist(figsize=(12, 8), bins=20, edgecolor='black')\n",
        "plt.suptitle(\"Numerical Feature Distributions\")\n",
        "plt.show()"
      ],
      "metadata": {
        "colab": {
          "base_uri": "https://localhost:8080/",
          "height": 728
        },
        "id": "kyiuI4z_Hm8Z",
        "outputId": "bd88ff15-b180-4f97-97d1-34f402307819"
      },
      "execution_count": null,
      "outputs": [
        {
          "output_type": "display_data",
          "data": {
            "text/plain": [
              "<Figure size 1200x800 with 2 Axes>"
            ],
            "image/png": "[encoded data removed]"
          },
          "metadata": {}
        }
      ]
    },
    {
      "cell_type": "code",
      "source": [
        "import matplotlib.pyplot as plt\n",
        "import seaborn as sns\n",
        "\n",
        "# Correlation heatmap\n",
        "plt.figure(figsize=(10, 6))\n",
        "sns.heatmap(df.corr(numeric_only=True), annot=True, cmap=\"coolwarm\")\n",
        "plt.title(\"Correlation Heatmap\")\n",
        "plt.show()"
      ],
      "metadata": {
        "colab": {
          "base_uri": "https://localhost:8080/",
          "height": 545
        },
        "id": "U8WH2jdlHpGJ",
        "outputId": "94d9e747-d8c7-42a8-d621-a3ae064e26a4"
      },
      "execution_count": null,
      "outputs": [
        {
          "output_type": "display_data",
          "data": {
            "text/plain": [
              "<Figure size 1000x600 with 2 Axes>"
            ],
            "image/png": "[encoded data removed]"
          },
          "metadata": {}
        }
      ]
    },
    {
      "cell_type": "code",
      "source": [
        "# 3. TREND ANALYSIS\n",
        "# =====================\n",
        "# Vaccination coverage over time\n",
        "if \"year\" in df.columns and \"coverage_percent\" in df.columns:\n",
        "    plt.figure(figsize=(10, 6))\n",
        "    sns.lineplot(data=df, x=\"year\", y=\"coverage_percent\", hue=\"country\", marker=\"o\")\n",
        "    plt.title(\"Vaccination Coverage Trend by Country\")\n",
        "    plt.show()"
      ],
      "metadata": {
        "id": "QMHAjrIEHrBL"
      },
      "execution_count": null,
      "outputs": []
    },
    {
      "cell_type": "code",
      "source": [
        "# 4. GEOGRAPHICAL (if Country column exists)\n",
        "# =====================\n",
        "if \"country\" in df.columns:\n",
        "    coverage_by_country = df.groupby(\"country\")[\"coverage_percent\"].mean().sort_values(ascending=False)\n",
        "    plt.figure(figsize=(12, 6))\n",
        "    coverage_by_country.plot(kind=\"bar\", color=\"skyblue\")\n",
        "    plt.title(\"Average Vaccination Coverage by Country\")\n",
        "    plt.ylabel(\"Coverage (%)\")\n",
        "    plt.show()\n"
      ],
      "metadata": {
        "id": "ayFc1dzuH52b"
      },
      "execution_count": null,
      "outputs": []
    },
    {
      "cell_type": "code",
      "source": [
        "# 5. RELATIONSHIPS\n",
        "# =====================\n",
        "if \"coverage_percent\" in df.columns and \"disease_cases\" in df.columns:\n",
        "    plt.figure(figsize=(8, 6))\n",
        "    sns.scatterplot(data=df, x=\"coverage_percent\", y=\"disease_cases\", hue=\"country\")\n",
        "    plt.title(\"Vaccination Coverage vs Disease Cases\")\n",
        "    plt.show()"
      ],
      "metadata": {
        "id": "4pJBUT36H6u6"
      },
      "execution_count": null,
      "outputs": []
    },
    {
      "cell_type": "code",
      "source": [
        "print(\"\\n✅ EDA completed!\")"
      ],
      "metadata": {
        "id": "hIMHxl_vH9qL",
        "outputId": "2d3dc356-acbc-4067-92eb-2f759d0501a8",
        "colab": {
          "base_uri": "https://localhost:8080/"
        }
      },
      "execution_count": null,
      "outputs": [
        {
          "output_type": "stream",
          "name": "stdout",
          "text": [
            "\n",
            "✅ EDA completed!\n"
          ]
        }
      ]
    }
  ]
}