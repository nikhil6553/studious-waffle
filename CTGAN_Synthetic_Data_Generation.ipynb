{
  "cells": [
    {
      "cell_type": "markdown",
      "metadata": {
        "id": "view-in-github",
        "colab_type": "text"
      },
      "source": [
        "<a href=\"https://colab.research.google.com/github/nikhil6553/studious-waffle/blob/main/CTGAN_Synthetic_Data_Generation.ipynb\" target=\"_parent\"><img src=\"https://colab.research.google.com/assets/colab-badge.svg\" alt=\"Open In Colab\"/></a>"
      ]
    },
    {
      "cell_type": "code",
      "source": [
        "!pip install ctgan\n",
        "!pip install pandas\n"
      ],
      "metadata": {
        "colab": {
          "base_uri": "https://localhost:8080/"
        },
        "id": "Nis9n1OqkAyN",
        "outputId": "658cc5fc-1eaa-4ba2-9eee-4c1e82d86a19"
      },
      "execution_count": null,
      "outputs": [
        {
          "output_type": "stream",
          "name": "stdout",
          "text": [
            "Collecting ctgan\n",
            "  Downloading ctgan-0.11.0-py3-none-any.whl.metadata (10 kB)\n",
            "Requirement already satisfied: numpy>=1.26.0 in /usr/local/lib/python3.12/dist-packages (from ctgan) (2.0.2)\n",
            "Requirement already satisfied: pandas>=2.1.1 in /usr/local/lib/python3.12/dist-packages (from ctgan) (2.2.2)\n",
            "Requirement already satisfied: torch>=2.2.0 in /usr/local/lib/python3.12/dist-packages (from ctgan) (2.8.0+cu126)\n",
            "Requirement already satisfied: tqdm<5,>=4.29 in /usr/local/lib/python3.12/dist-packages (from ctgan) (4.67.1)\n",
            "Collecting rdt>=1.14.0 (from ctgan)\n",
            "  Downloading rdt-1.18.2-py3-none-any.whl.metadata (10 kB)\n",
            "Requirement already satisfied: python-dateutil>=2.8.2 in /usr/local/lib/python3.12/dist-packages (from pandas>=2.1.1->ctgan) (2.9.0.post0)\n",
            "Requirement already satisfied: pytz>=2020.1 in /usr/local/lib/python3.12/dist-packages (from pandas>=2.1.1->ctgan) (2025.2)\n",
            "Requirement already satisfied: tzdata>=2022.7 in /usr/local/lib/python3.12/dist-packages (from pandas>=2.1.1->ctgan) (2025.2)\n",
            "Requirement already satisfied: scipy>=1.12.0 in /usr/local/lib/python3.12/dist-packages (from rdt>=1.14.0->ctgan) (1.16.2)\n",
            "Requirement already satisfied: scikit-learn>=1.3.1 in /usr/local/lib/python3.12/dist-packages (from rdt>=1.14.0->ctgan) (1.6.1)\n",
            "Collecting Faker!=37.11.0,>=17 (from rdt>=1.14.0->ctgan)\n",
            "  Downloading faker-37.12.0-py3-none-any.whl.metadata (15 kB)\n",
            "Requirement already satisfied: filelock in /usr/local/lib/python3.12/dist-packages (from torch>=2.2.0->ctgan) (3.20.0)\n",
            "Requirement already satisfied: typing-extensions>=4.10.0 in /usr/local/lib/python3.12/dist-packages (from torch>=2.2.0->ctgan) (4.15.0)\n",
            "Requirement already satisfied: setuptools in /usr/local/lib/python3.12/dist-packages (from torch>=2.2.0->ctgan) (75.2.0)\n",
            "Requirement already satisfied: sympy>=1.13.3 in /usr/local/lib/python3.12/dist-packages (from torch>=2.2.0->ctgan) (1.13.3)\n",
            "Requirement already satisfied: networkx in /usr/local/lib/python3.12/dist-packages (from torch>=2.2.0->ctgan) (3.5)\n",
            "Requirement already satisfied: jinja2 in /usr/local/lib/python3.12/dist-packages (from torch>=2.2.0->ctgan) (3.1.6)\n",
            "Requirement already satisfied: fsspec in /usr/local/lib/python3.12/dist-packages (from torch>=2.2.0->ctgan) (2025.3.0)\n",
            "Requirement already satisfied: nvidia-cuda-nvrtc-cu12==12.6.77 in /usr/local/lib/python3.12/dist-packages (from torch>=2.2.0->ctgan) (12.6.77)\n",
            "Requirement already satisfied: nvidia-cuda-runtime-cu12==12.6.77 in /usr/local/lib/python3.12/dist-packages (from torch>=2.2.0->ctgan) (12.6.77)\n",
            "Requirement already satisfied: nvidia-cuda-cupti-cu12==12.6.80 in /usr/local/lib/python3.12/dist-packages (from torch>=2.2.0->ctgan) (12.6.80)\n",
            "Requirement already satisfied: nvidia-cudnn-cu12==9.10.2.21 in /usr/local/lib/python3.12/dist-packages (from torch>=2.2.0->ctgan) (9.10.2.21)\n",
            "Requirement already satisfied: nvidia-cublas-cu12==12.6.4.1 in /usr/local/lib/python3.12/dist-packages (from torch>=2.2.0->ctgan) (12.6.4.1)\n",
            "Requirement already satisfied: nvidia-cufft-cu12==11.3.0.4 in /usr/local/lib/python3.12/dist-packages (from torch>=2.2.0->ctgan) (11.3.0.4)\n",
            "Requirement already satisfied: nvidia-curand-cu12==10.3.7.77 in /usr/local/lib/python3.12/dist-packages (from torch>=2.2.0->ctgan) (10.3.7.77)\n",
            "Requirement already satisfied: nvidia-cusolver-cu12==11.7.1.2 in /usr/local/lib/python3.12/dist-packages (from torch>=2.2.0->ctgan) (11.7.1.2)\n",
            "Requirement already satisfied: nvidia-cusparse-cu12==12.5.4.2 in /usr/local/lib/python3.12/dist-packages (from torch>=2.2.0->ctgan) (12.5.4.2)\n",
            "Requirement already satisfied: nvidia-cusparselt-cu12==0.7.1 in /usr/local/lib/python3.12/dist-packages (from torch>=2.2.0->ctgan) (0.7.1)\n",
            "Requirement already satisfied: nvidia-nccl-cu12==2.27.3 in /usr/local/lib/python3.12/dist-packages (from torch>=2.2.0->ctgan) (2.27.3)\n",
            "Requirement already satisfied: nvidia-nvtx-cu12==12.6.77 in /usr/local/lib/python3.12/dist-packages (from torch>=2.2.0->ctgan) (12.6.77)\n",
            "Requirement already satisfied: nvidia-nvjitlink-cu12==12.6.85 in /usr/local/lib/python3.12/dist-packages (from torch>=2.2.0->ctgan) (12.6.85)\n",
            "Requirement already satisfied: nvidia-cufile-cu12==1.11.1.6 in /usr/local/lib/python3.12/dist-packages (from torch>=2.2.0->ctgan) (1.11.1.6)\n",
            "Requirement already satisfied: triton==3.4.0 in /usr/local/lib/python3.12/dist-packages (from torch>=2.2.0->ctgan) (3.4.0)\n",
            "Requirement already satisfied: six>=1.5 in /usr/local/lib/python3.12/dist-packages (from python-dateutil>=2.8.2->pandas>=2.1.1->ctgan) (1.17.0)\n",
            "Requirement already satisfied: joblib>=1.2.0 in /usr/local/lib/python3.12/dist-packages (from scikit-learn>=1.3.1->rdt>=1.14.0->ctgan) (1.5.2)\n",
            "Requirement already satisfied: threadpoolctl>=3.1.0 in /usr/local/lib/python3.12/dist-packages (from scikit-learn>=1.3.1->rdt>=1.14.0->ctgan) (3.6.0)\n",
            "Requirement already satisfied: mpmath<1.4,>=1.1.0 in /usr/local/lib/python3.12/dist-packages (from sympy>=1.13.3->torch>=2.2.0->ctgan) (1.3.0)\n",
            "Requirement already satisfied: MarkupSafe>=2.0 in /usr/local/lib/python3.12/dist-packages (from jinja2->torch>=2.2.0->ctgan) (3.0.3)\n",
            "Downloading ctgan-0.11.0-py3-none-any.whl (24 kB)\n",
            "Downloading rdt-1.18.2-py3-none-any.whl (74 kB)\n",
            "\u001b[2K   \u001b[90m━━━━━━━━━━━━━━━━━━━━━━━━━━━━━━━━━━━━━━━━\u001b[0m \u001b[32m74.3/74.3 kB\u001b[0m \u001b[31m3.0 MB/s\u001b[0m eta \u001b[36m0:00:00\u001b[0m\n",
            "\u001b[?25hDownloading faker-37.12.0-py3-none-any.whl (2.0 MB)\n",
            "\u001b[2K   \u001b[90m━━━━━━━━━━━━━━━━━━━━━━━━━━━━━━━━━━━━━━━━\u001b[0m \u001b[32m2.0/2.0 MB\u001b[0m \u001b[31m31.8 MB/s\u001b[0m eta \u001b[36m0:00:00\u001b[0m\n",
            "\u001b[?25hInstalling collected packages: Faker, rdt, ctgan\n",
            "Successfully installed Faker-37.12.0 ctgan-0.11.0 rdt-1.18.2\n",
            "Requirement already satisfied: pandas in /usr/local/lib/python3.12/dist-packages (2.2.2)\n",
            "Requirement already satisfied: numpy>=1.26.0 in /usr/local/lib/python3.12/dist-packages (from pandas) (2.0.2)\n",
            "Requirement already satisfied: python-dateutil>=2.8.2 in /usr/local/lib/python3.12/dist-packages (from pandas) (2.9.0.post0)\n",
            "Requirement already satisfied: pytz>=2020.1 in /usr/local/lib/python3.12/dist-packages (from pandas) (2025.2)\n",
            "Requirement already satisfied: tzdata>=2022.7 in /usr/local/lib/python3.12/dist-packages (from pandas) (2025.2)\n",
            "Requirement already satisfied: six>=1.5 in /usr/local/lib/python3.12/dist-packages (from python-dateutil>=2.8.2->pandas) (1.17.0)\n"
          ]
        }
      ]
    },
    {
      "cell_type": "code",
      "source": [
        "import pandas as pd\n",
        "from ctgan import CTGAN\n",
        "from ctgan import load_demo\n",
        "import numpy as np\n",
        "\n",
        "# --- 1. Load Data ---\n",
        "# This example uses the built-in Adult Census dataset.\n",
        "# For your own data, you would replace the line below with:\n",
        "# real_data = pd.read_csv('your_data_file.csv')\n",
        "print(\"Loading demo data...\")\n",
        "real_data = load_demo()\n",
        "\n",
        "# Inspect the loaded data\n",
        "print(f\"Shape of REAL data: {real_data.shape}\")\n",
        "print(\"\\nFirst 5 rows of REAL data:\")\n",
        "print(real_data.head())\n",
        "print(\"-\" * 50)\n",
        "\n",
        "# --- 2. Define Discrete Columns ---\n",
        "# CTGAN needs to know which columns are categorical (discrete) vs. continuous.\n",
        "# You MUST correctly identify these columns for your own dataset.\n",
        "discrete_columns = [\n",
        "    'workclass', 'education', 'marital-status', 'occupation',\n",
        "    'relationship', 'race', 'sex', 'native-country', 'income'\n",
        "]\n",
        "\n",
        "# --- 3. Initialize and Fit the CTGAN Model ---\n",
        "# We initialize the CTGAN model.\n",
        "# 'epochs': How many training iterations. Higher epochs generally means better\n",
        "#           synthetic data quality but longer training time. We use 10 for a quick demo.\n",
        "# 'batch_size': The number of rows processed in each training step.\n",
        "print(\"Initializing and fitting CTGAN model...\")\n",
        "ctgan = CTGAN(\n",
        "    epochs=10, # Use more epochs (e.g., 300) for high-quality data\n",
        "    batch_size=500,\n",
        "    verbose=True\n",
        ")\n",
        "\n",
        "# Fit the model to the real data\n",
        "# This is the training step where the Generator and Discriminator learn\n",
        "try:\n",
        "    ctgan.fit(real_data, discrete_columns)\n",
        "    print(\"CTGAN fitting complete.\")\n",
        "except Exception as e:\n",
        "    print(f\"An error occurred during fitting: {e}\")\n",
        "    print(\"If you encounter errors, ensure your data is clean (no NaNs) and column types are correct.\")\n",
        "    # Stop execution if fitting fails\n",
        "    exit()\n",
        "\n",
        "\n",
        "# --- 4. Generate Synthetic Data ---\n",
        "NUM_SAMPLES = 1000\n",
        "print(f\"\\nGenerating {NUM_SAMPLES} synthetic rows...\")\n",
        "synthetic_data = ctgan.sample(NUM_SAMPLES)\n",
        "\n",
        "# --- 5. Output and Verification ---\n",
        "print(\"-\" * 50)\n",
        "print(f\"Shape of SYNTHETIC data: {synthetic_data.shape}\")\n",
        "print(f\"Number of rows requested: {NUM_SAMPLES}\")\n",
        "print(f\"Number of columns: {len(synthetic_data.columns)}\")\n",
        "print(\"-\" * 50)\n",
        "print(\"\\nFirst 5 rows of SYNTHETIC data:\")\n",
        "print(synthetic_data.head())\n",
        "\n",
        "# Optional: Save the synthetic data to a CSV file\n",
        "# synthetic_data.to_csv('synthetic_census_data.csv', index=False)\n",
        "# print(\"\\nSynthetic data saved to 'synthetic_census_data.csv'\")\n",
        "\n",
        "# Optional: Save the trained model for later use\n",
        "# ctgan.save('my_ctgan_model.pkl')\n",
        "# print(\"\\nModel saved to 'my_ctgan_model.pkl'\")"
      ],
      "outputs": [
        {
          "output_type": "stream",
          "name": "stdout",
          "text": [
            "Loading demo data...\n",
            "Shape of REAL data: (32561, 15)\n",
            "\n",
            "First 5 rows of REAL data:\n",
            "   age         workclass  fnlwgt  education  education-num  \\\n",
            "0   39         State-gov   77516  Bachelors             13   \n",
            "1   50  Self-emp-not-inc   83311  Bachelors             13   \n",
            "2   38           Private  215646    HS-grad              9   \n",
            "3   53           Private  234721       11th              7   \n",
            "4   28           Private  338409  Bachelors             13   \n",
            "\n",
            "       marital-status         occupation   relationship   race     sex  \\\n",
            "0       Never-married       Adm-clerical  Not-in-family  White    Male   \n",
            "1  Married-civ-spouse    Exec-managerial        Husband  White    Male   \n",
            "2            Divorced  Handlers-cleaners  Not-in-family  White    Male   \n",
            "3  Married-civ-spouse  Handlers-cleaners        Husband  Black    Male   \n",
            "4  Married-civ-spouse     Prof-specialty           Wife  Black  Female   \n",
            "\n",
            "   capital-gain  capital-loss  hours-per-week native-country income  \n",
            "0          2174             0              40  United-States  <=50K  \n",
            "1             0             0              13  United-States  <=50K  \n",
            "2             0             0              40  United-States  <=50K  \n",
            "3             0             0              40  United-States  <=50K  \n",
            "4             0             0              40           Cuba  <=50K  \n",
            "--------------------------------------------------\n",
            "Initializing and fitting CTGAN model...\n"
          ]
        },
        {
          "output_type": "stream",
          "name": "stderr",
          "text": [
            "Gen. (-1.00) | Discrim. (0.04): 100%|██████████| 10/10 [01:27<00:00,  8.80s/it]"
          ]
        },
        {
          "output_type": "stream",
          "name": "stdout",
          "text": [
            "CTGAN fitting complete.\n",
            "\n",
            "Generating 1000 synthetic rows...\n",
            "--------------------------------------------------\n",
            "Shape of SYNTHETIC data: (1000, 15)\n",
            "Number of rows requested: 1000\n",
            "Number of columns: 15\n",
            "--------------------------------------------------\n",
            "\n",
            "First 5 rows of SYNTHETIC data:\n",
            "   age     workclass  fnlwgt     education  education-num marital-status  \\\n",
            "0   56             ?  218561          11th              5  Never-married   \n",
            "1   54  Self-emp-inc   49927  Some-college              9      Separated   \n",
            "2   38       Private   52978          11th             14        Widowed   \n",
            "3   32       Private  198055       Masters              8  Never-married   \n",
            "4   30       Private  253643     Bachelors             16        Widowed   \n",
            "\n",
            "        occupation   relationship   race     sex  capital-gain  capital-loss  \\\n",
            "0     Adm-clerical           Wife  White  Female            82            -4   \n",
            "1  Exec-managerial      Unmarried  White  Female         15931             1   \n",
            "2     Craft-repair           Wife  White  Female            32            -6   \n",
            "3     Adm-clerical  Not-in-family  White  Female            24            -4   \n",
            "4  Farming-fishing           Wife  White  Female            11            -7   \n",
            "\n",
            "   hours-per-week native-country income  \n",
            "0              43  United-States   >50K  \n",
            "1              40          China  <=50K  \n",
            "2              37  United-States  <=50K  \n",
            "3              54    El-Salvador   >50K  \n",
            "4              43  United-States  <=50K  \n"
          ]
        },
        {
          "output_type": "stream",
          "name": "stderr",
          "text": [
            "\n"
          ]
        }
      ],
      "execution_count": null,
      "metadata": {
        "colab": {
          "base_uri": "https://localhost:8080/"
        },
        "id": "stgAvzIEj5yw",
        "outputId": "8de4fe5d-4067-448c-ebb9-fb01bcd91e06"
      }
    },
    {
      "cell_type": "code",
      "source": [],
      "metadata": {
        "id": "L2JAxd9AlINp"
      },
      "execution_count": null,
      "outputs": []
    }
  ],
  "metadata": {
    "colab": {
      "provenance": [],
      "include_colab_link": true
    },
    "kernelspec": {
      "display_name": "Python 3",
      "name": "python3"
    }
  },
  "nbformat": 4,
  "nbformat_minor": 0
}